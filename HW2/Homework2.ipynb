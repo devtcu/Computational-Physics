{
 "cells": [
  {
   "cell_type": "markdown",
   "id": "6c693a0b-8009-4b4c-bec5-03a694642160",
   "metadata": {},
   "source": [
    "## Homework 2\n",
    "### Due: Thursday Feb. 13\n",
    "\n",
    "**Integer vs floating point number**\n",
    "\n",
    "Write a program to calculate and print the factorial of a\n",
    "number.  If you wish you can base your program on the\n",
    "user-defined function for factorial given in Section 2.6, but write your\n",
    "program so that it calculates the factorial using *integer*\n",
    "variables, not floating-point ones.  Use your program to calculate the\n",
    "factorial of 200.\n",
    "\n",
    "Now modify your program to use floating-point variables instead and again\n",
    "calculate the factorial of 200.  What do you find?  Explain.\n",
    "\n",
    "(20 points)"
   ]
  },
  {
   "cell_type": "code",
   "execution_count": 2,
   "id": "de7fed8f-325f-4eab-ab18-1e59d1d6b428",
   "metadata": {},
   "outputs": [
    {
     "name": "stdout",
     "output_type": "stream",
     "text": [
      "The factor with integer variables is: 15511210043330985984000000\n",
      "The factor with floating-point variables is: 1.5511210043330984e+25\n"
     ]
    }
   ],
   "source": [
    "def factorial(n):\n",
    "    num = 1\n",
    "    while n >= 1:\n",
    "        num = num * n\n",
    "        n = n - 1 \n",
    "    return num\n",
    "\n",
    "def factorial_float(n):\n",
    "    numm = 1.0\n",
    "    while n >= 1:\n",
    "        numm = numm * n\n",
    "        n = n - 1\n",
    "    return numm\n",
    "\n",
    "print(f\"The factor with integer variables is: {factorial(25)}\")\n",
    "print(f\"The factor with floating-point variables is: {factorial_float(25)}\")"
   ]
  },
  {
   "cell_type": "markdown",
   "id": "892b3618",
   "metadata": {},
   "source": [
    "For arbitrarily large values, floating point values carry limited precision when it comes to storing these values. They instead store them in scientific notation."
   ]
  },
  {
   "cell_type": "markdown",
   "id": "1e9a5155-daa8-4809-8e6a-e5d4ab7c270d",
   "metadata": {},
   "source": [
    "**A Simple Derivative**\n",
    "\n",
    "Suppose we have a function $f(x)$ and we want to\n",
    "calculate its derivative at a point $x$.  We can do that with pencil and\n",
    "paper if we know the mathematical form of the function, or we can do it on\n",
    "the computer by making use of the definition of the derivative:\n",
    "\n",
    "<p style=\"text-align:center;\">\n",
    "${d f\\over d x} = \\lim_{\\delta\\to0} {f(x+\\delta)-f(x)\\over\\delta}.$\n",
    "</p>\n",
    "\n",
    "On the computer we can't actually take the limit as $\\delta$ goes to\n",
    "zero, but we can get a reasonable approximation just by making $\\delta$\n",
    "small.\n",
    "- Write a program that defines a function *f(x)* returning the\n",
    "  value $x(x-1)$, then calculates the derivative of the function at the\n",
    "  point $x=1$ using the formula above with $\\delta=10^{-2}$.  Calculate\n",
    "  the true value of the same derivative analytically and compare with the\n",
    "  answer your program gives.  The two will not agree perfectly.  Why not?\n",
    "- Repeat the calculation for $\\delta=10^{-4}$, $10^{-6}$, $10^{-8}$,\n",
    "  $10^{-10}$, $10^{-12}$, and $10^{-14}$.  You should see that the accuracy\n",
    "  of the calculation initially gets better as $\\delta$ gets smaller, but\n",
    "  then gets worse again.  Why is this?\n",
    "\n",
    "(20 points)"
   ]
  },
  {
   "cell_type": "code",
   "execution_count": 3,
   "id": "84528686-9eb8-4446-81db-1a6dc4a26a30",
   "metadata": {},
   "outputs": [
    {
     "name": "stdout",
     "output_type": "stream",
     "text": [
      "The derivative using limits is 1.010000000000001\n",
      "The derivative anlytically is 1\n",
      "The derivative using limits is 1.0000999999998899\n",
      "The derivative using limits is 1.0000009999177333\n",
      "The derivative using limits is 1.0000000039225287\n",
      "The derivative using limits is 1.000000082840371\n",
      "The derivative using limits is 1.0000889005833413\n",
      "The derivative using limits is 0.9992007221626509\n"
     ]
    }
   ],
   "source": [
    "def f(x):\n",
    "    return x*(x - 1)\n",
    "\n",
    "def derivative_f(x):\n",
    "    return 2 * x - 1\n",
    "    \n",
    "\n",
    "def limit(point, delta):\n",
    "     \n",
    "    return (f(point + delta) - f(point)) / delta\n",
    "\n",
    "def analytically(point):\n",
    "    \n",
    "    return (derivative_f(point))\n",
    "\n",
    "print(f\"The derivative using limits is {limit(1, 10**(-2))}\")\n",
    "print(f\"The derivative anlytically is {analytically(1)}\")\n",
    "\n",
    "print(f\"The derivative using limits is {limit(1, 10**(-4))}\")\n",
    "print(f\"The derivative using limits is {limit(1, 10**(-6))}\")\n",
    "print(f\"The derivative using limits is {limit(1, 10**(-8))}\")\n",
    "print(f\"The derivative using limits is {limit(1, 10**(-10))}\")\n",
    "print(f\"The derivative using limits is {limit(1, 10**(-12))}\")\n",
    "print(f\"The derivative using limits is {limit(1, 10**(-14))}\")\n"
   ]
  },
  {
   "cell_type": "markdown",
   "id": "ebb2e1bb-74fa-4897-9d4d-8ba74bfe1ad2",
   "metadata": {},
   "source": [
    "### Simpson's Rule\n",
    "\n",
    "- Write a program to calculate an approximate value for the integral $\\int_{0}^{2} ( x^4 - 2x + 1)dx$ from Example 5.1 in the book, but using Simpson's rule with 10 slices instead of the trapezoid rule. You may be able to modify your code from the trapezoid rule to complete this task. Compare your result to the known correct value of 4.4. What is the fractional error on your calculation?\n",
    "\n",
    "- Copy your code and modify it to use one hundred slices, then one thousand. Note the improvement in the result and compare to the results from the trapezoid rule.\n",
    "\n",
    "(30 points)"
   ]
  },
  {
   "cell_type": "code",
   "execution_count": 4,
   "id": "d8370bf3-7d95-442e-8d4d-b3636a60e6e7",
   "metadata": {},
   "outputs": [
    {
     "name": "stdout",
     "output_type": "stream",
     "text": [
      "Our integral evaluates to 4.400426666666667 using Simpson's rule, with a fractional error of 9.696969696972666e-05\n"
     ]
    }
   ],
   "source": [
    "def func(x):\n",
    "    return x**4 - 2*x + 1\n",
    "\n",
    "def simpson(a, b, n):\n",
    "       \n",
    "    h = (b - a) / n\n",
    "\n",
    "    summation_even = 0\n",
    "    summation_odd = 0\n",
    "    \n",
    "    for k in range(2, n - 1, 2):\n",
    "        summation_even += func(a + k * h)\n",
    "    \n",
    "    for r in range(1, n, 2):\n",
    "        summation_odd += func(a + r * h)\n",
    "    \n",
    "    \n",
    "    return (1 / 3) * h * (func(a) + func(b) + 2 * (summation_even) + 4 * (summation_odd))\n",
    "\n",
    "\n",
    "frac_error = abs(simpson(0, 2, 10) - 4.4) / 4.4\n",
    "\n",
    "print(f\"Our integral evaluates to {simpson(0, 2, 10)} using Simpson's rule, with a fractional error of {frac_error}\")\n",
    "\n",
    "             \n"
   ]
  },
  {
   "cell_type": "markdown",
   "id": "4c080cd1-540e-4ab2-a0d6-3372d1899b4f",
   "metadata": {},
   "source": [
    "### An Integral With No Analytic Solution\n",
    "\n",
    "Consider the integral\n",
    "\n",
    "$$ E(x) = \\int_{0}^{x} \\exp{-t^2} dt$$\n",
    "\n",
    "- Write a program to calculate $E(x)$ for values of x from 0 to 3 in steps of 0.1. Choose for yourself what method you will use for performing the integral and a suitable number of slices.\n",
    "\n",
    "- When you are convinced your program is working, extend it further to make a graph of E(x) as a function of x.\n",
    "\n",
    "(30 points)"
   ]
  },
  {
   "cell_type": "code",
   "execution_count": 6,
   "id": "27aaf5cb-8c02-4c8a-affe-d7d67c969b59",
   "metadata": {},
   "outputs": [
    {
     "data": {
      "image/png": "[encoded data removed]",
      "text/plain": [
       "<Figure size 640x480 with 1 Axes>"
      ]
     },
     "metadata": {},
     "output_type": "display_data"
    }
   ],
   "source": [
    "import numpy as np\n",
    "from matplotlib import pyplot as plt\n",
    "\n",
    "\n",
    "\n",
    "y_values = []\n",
    "x_values = np.arange(0, 3.0, 0.1).tolist() \n",
    "\n",
    "def func(x):\n",
    "    return np.exp(-x ** 2)\n",
    "\n",
    "\n",
    "for i in np.arange(0, 3, 0.1):\n",
    "    ans = simpson(0,i,100)\n",
    "    y_values.append(ans)\n",
    "\n",
    "\n",
    "plt.plot(x_values, y_values, markeredgecolor='red',marker='x', markersize=4)\n",
    "\n",
    "plt.title(\"Plot of E(x) using Simpson's rule\")\n",
    "plt.xlabel(\"X values\")\n",
    "plt.ylabel(\"E(x))\")\n",
    "\n",
    "plt.show()\n",
    "\n"
   ]
  }
 ],
 "metadata": {
  "kernelspec": {
   "display_name": "base",
   "language": "python",
   "name": "python3"
  },
  "language_info": {
   "codemirror_mode": {
    "name": "ipython",
    "version": 3
   },
   "file_extension": ".py",
   "mimetype": "text/x-python",
   "name": "python",
   "nbconvert_exporter": "python",
   "pygments_lexer": "ipython3",
   "version": "3.11.4"
  }
 },
 "nbformat": 4,
 "nbformat_minor": 5
}
